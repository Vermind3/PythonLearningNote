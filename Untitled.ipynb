{
 "cells": [
  {
   "cell_type": "code",
   "execution_count": 1,
   "id": "a45ba3a2",
   "metadata": {},
   "outputs": [],
   "source": [
    "alist = ['a','b','c','D','E']"
   ]
  },
  {
   "cell_type": "code",
   "execution_count": 4,
   "id": "4dad34e8",
   "metadata": {},
   "outputs": [
    {
     "name": "stdout",
     "output_type": "stream",
     "text": [
      "0 a\n",
      "1 b\n",
      "2 c\n",
      "3 D\n",
      "4 E\n"
     ]
    }
   ],
   "source": [
    "for i, alistpart in enumerate(alist, start = 0):\n",
    "    print(i , alistpart)"
   ]
  },
  {
   "cell_type": "code",
   "execution_count": null,
   "id": "c72ad8dd",
   "metadata": {},
   "outputs": [],
   "source": []
  }
 ],
 "metadata": {
  "kernelspec": {
   "display_name": "Python 3 (ipykernel)",
   "language": "python",
   "name": "python3"
  },
  "language_info": {
   "codemirror_mode": {
    "name": "ipython",
    "version": 3
   },
   "file_extension": ".py",
   "mimetype": "text/x-python",
   "name": "python",
   "nbconvert_exporter": "python",
   "pygments_lexer": "ipython3",
   "version": "3.11.5"
  }
 },
 "nbformat": 4,
 "nbformat_minor": 5
}
